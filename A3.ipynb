{
 "cells": [
  {
   "cell_type": "markdown",
   "metadata": {
    "id": "bh6dvv56xByP"
   },
   "source": [
    "Install the required packages. This code was run in Google Colab, so required reinstallation each time a new instance was started."
   ]
  },
  {
   "cell_type": "code",
   "execution_count": 1,
   "metadata": {
    "colab": {
     "base_uri": "https://localhost:8080/"
    },
    "collapsed": true,
    "id": "UqYwDAcNw8Z5",
    "jupyter": {
     "outputs_hidden": true
    },
    "outputId": "83a74334-7cae-47e3-86f2-f963eeb3d714"
   },
   "outputs": [
    {
     "name": "stdout",
     "output_type": "stream",
     "text": [
      "Collecting selenium\n",
      "  Downloading selenium-4.23.1-py3-none-any.whl.metadata (7.1 kB)\n",
      "Requirement already satisfied: urllib3<3,>=1.26 in /usr/local/lib/python3.10/dist-packages (from urllib3[socks]<3,>=1.26->selenium) (2.0.7)\n",
      "Collecting trio~=0.17 (from selenium)\n",
      "  Downloading trio-0.26.2-py3-none-any.whl.metadata (8.6 kB)\n",
      "Collecting trio-websocket~=0.9 (from selenium)\n",
      "  Downloading trio_websocket-0.11.1-py3-none-any.whl.metadata (4.7 kB)\n",
      "Requirement already satisfied: certifi>=2021.10.8 in /usr/local/lib/python3.10/dist-packages (from selenium) (2024.7.4)\n",
      "Requirement already satisfied: typing_extensions~=4.9 in /usr/local/lib/python3.10/dist-packages (from selenium) (4.12.2)\n",
      "Requirement already satisfied: websocket-client~=1.8 in /usr/local/lib/python3.10/dist-packages (from selenium) (1.8.0)\n",
      "Requirement already satisfied: attrs>=23.2.0 in /usr/local/lib/python3.10/dist-packages (from trio~=0.17->selenium) (24.2.0)\n",
      "Requirement already satisfied: sortedcontainers in /usr/local/lib/python3.10/dist-packages (from trio~=0.17->selenium) (2.4.0)\n",
      "Requirement already satisfied: idna in /usr/local/lib/python3.10/dist-packages (from trio~=0.17->selenium) (3.7)\n",
      "Collecting outcome (from trio~=0.17->selenium)\n",
      "  Downloading outcome-1.3.0.post0-py2.py3-none-any.whl.metadata (2.6 kB)\n",
      "Requirement already satisfied: sniffio>=1.3.0 in /usr/local/lib/python3.10/dist-packages (from trio~=0.17->selenium) (1.3.1)\n",
      "Requirement already satisfied: exceptiongroup in /usr/local/lib/python3.10/dist-packages (from trio~=0.17->selenium) (1.2.2)\n",
      "Collecting wsproto>=0.14 (from trio-websocket~=0.9->selenium)\n",
      "  Downloading wsproto-1.2.0-py3-none-any.whl.metadata (5.6 kB)\n",
      "Requirement already satisfied: pysocks!=1.5.7,<2.0,>=1.5.6 in /usr/local/lib/python3.10/dist-packages (from urllib3[socks]<3,>=1.26->selenium) (1.7.1)\n",
      "Collecting h11<1,>=0.9.0 (from wsproto>=0.14->trio-websocket~=0.9->selenium)\n",
      "  Downloading h11-0.14.0-py3-none-any.whl.metadata (8.2 kB)\n",
      "Downloading selenium-4.23.1-py3-none-any.whl (9.4 MB)\n",
      "\u001b[2K   \u001b[90m━━━━━━━━━━━━━━━━━━━━━━━━━━━━━━━━━━━━━━━━\u001b[0m \u001b[32m9.4/9.4 MB\u001b[0m \u001b[31m29.3 MB/s\u001b[0m eta \u001b[36m0:00:00\u001b[0m\n",
      "\u001b[?25hDownloading trio-0.26.2-py3-none-any.whl (475 kB)\n",
      "\u001b[2K   \u001b[90m━━━━━━━━━━━━━━━━━━━━━━━━━━━━━━━━━━━━━━━━\u001b[0m \u001b[32m476.0/476.0 kB\u001b[0m \u001b[31m10.3 MB/s\u001b[0m eta \u001b[36m0:00:00\u001b[0m\n",
      "\u001b[?25hDownloading trio_websocket-0.11.1-py3-none-any.whl (17 kB)\n",
      "Downloading wsproto-1.2.0-py3-none-any.whl (24 kB)\n",
      "Downloading outcome-1.3.0.post0-py2.py3-none-any.whl (10 kB)\n",
      "Downloading h11-0.14.0-py3-none-any.whl (58 kB)\n",
      "\u001b[2K   \u001b[90m━━━━━━━━━━━━━━━━━━━━━━━━━━━━━━━━━━━━━━━━\u001b[0m \u001b[32m58.3/58.3 kB\u001b[0m \u001b[31m3.2 MB/s\u001b[0m eta \u001b[36m0:00:00\u001b[0m\n",
      "\u001b[?25hInstalling collected packages: outcome, h11, wsproto, trio, trio-websocket, selenium\n",
      "Successfully installed h11-0.14.0 outcome-1.3.0.post0 selenium-4.23.1 trio-0.26.2 trio-websocket-0.11.1 wsproto-1.2.0\n",
      "Get:1 http://security.ubuntu.com/ubuntu jammy-security InRelease [129 kB]\n",
      "Hit:2 http://archive.ubuntu.com/ubuntu jammy InRelease\n",
      "Get:3 http://archive.ubuntu.com/ubuntu jammy-updates InRelease [128 kB]\n",
      "Hit:4 https://developer.download.nvidia.com/compute/cuda/repos/ubuntu2204/x86_64  InRelease\n",
      "Ign:5 https://r2u.stat.illinois.edu/ubuntu jammy InRelease\n",
      "Hit:6 http://archive.ubuntu.com/ubuntu jammy-backports InRelease\n",
      "Get:7 https://r2u.stat.illinois.edu/ubuntu jammy Release [5,713 B]\n",
      "Get:8 https://r2u.stat.illinois.edu/ubuntu jammy Release.gpg [793 B]\n",
      "Get:9 https://cloud.r-project.org/bin/linux/ubuntu jammy-cran40/ InRelease [3,626 B]\n",
      "Get:10 http://security.ubuntu.com/ubuntu jammy-security/main amd64 Packages [2,173 kB]\n",
      "Get:11 https://ppa.launchpadcontent.net/deadsnakes/ppa/ubuntu jammy InRelease [18.1 kB]\n",
      "Get:12 http://security.ubuntu.com/ubuntu jammy-security/universe amd64 Packages [1,134 kB]\n",
      "Hit:13 https://ppa.launchpadcontent.net/graphics-drivers/ppa/ubuntu jammy InRelease\n",
      "Hit:14 https://ppa.launchpadcontent.net/ubuntugis/ppa/ubuntu jammy InRelease\n",
      "Get:15 http://archive.ubuntu.com/ubuntu jammy-updates/main amd64 Packages [2,449 kB]\n",
      "Get:16 http://archive.ubuntu.com/ubuntu jammy-updates/universe amd64 Packages [1,423 kB]\n",
      "Get:17 https://r2u.stat.illinois.edu/ubuntu jammy/main amd64 Packages [2,556 kB]\n",
      "Get:18 https://r2u.stat.illinois.edu/ubuntu jammy/main all Packages [8,227 kB]\n",
      "Get:19 https://ppa.launchpadcontent.net/deadsnakes/ppa/ubuntu jammy/main amd64 Packages [27.8 kB]\n",
      "Fetched 18.3 MB in 3s (5,627 kB/s)\n",
      "Reading package lists... Done\n",
      "W: Skipping acquire of configured file 'main/source/Sources' as repository 'https://r2u.stat.illinois.edu/ubuntu jammy InRelease' does not seem to provide it (sources.list entry misspelt?)\n",
      "Reading package lists... Done\n",
      "Building dependency tree... Done\n",
      "Reading state information... Done\n",
      "The following additional packages will be installed:\n",
      "  apparmor chromium-browser libfuse3-3 liblzo2-2 libudev1 snapd squashfs-tools systemd-hwe-hwdb\n",
      "  udev\n",
      "Suggested packages:\n",
      "  apparmor-profiles-extra apparmor-utils fuse3 zenity | kdialog\n",
      "The following NEW packages will be installed:\n",
      "  apparmor chromium-browser chromium-chromedriver libfuse3-3 liblzo2-2 snapd squashfs-tools\n",
      "  systemd-hwe-hwdb udev\n",
      "The following packages will be upgraded:\n",
      "  libudev1\n",
      "1 upgraded, 9 newly installed, 0 to remove and 48 not upgraded.\n",
      "Need to get 28.5 MB of archives.\n",
      "After this operation, 118 MB of additional disk space will be used.\n",
      "Get:1 http://archive.ubuntu.com/ubuntu jammy-updates/main amd64 apparmor amd64 3.0.4-2ubuntu2.3 [595 kB]\n",
      "Get:2 http://archive.ubuntu.com/ubuntu jammy/main amd64 liblzo2-2 amd64 2.10-2build3 [53.7 kB]\n",
      "Get:3 http://archive.ubuntu.com/ubuntu jammy/main amd64 squashfs-tools amd64 1:4.5-3build1 [159 kB]\n",
      "Get:4 http://archive.ubuntu.com/ubuntu jammy-updates/main amd64 libudev1 amd64 249.11-0ubuntu3.12 [78.2 kB]\n",
      "Get:5 http://archive.ubuntu.com/ubuntu jammy-updates/main amd64 udev amd64 249.11-0ubuntu3.12 [1,557 kB]\n",
      "Get:6 http://archive.ubuntu.com/ubuntu jammy/main amd64 libfuse3-3 amd64 3.10.5-1build1 [81.2 kB]\n",
      "Get:7 http://archive.ubuntu.com/ubuntu jammy-updates/main amd64 snapd amd64 2.63+22.04ubuntu0.1 [25.9 MB]\n",
      "Get:8 http://archive.ubuntu.com/ubuntu jammy-updates/universe amd64 chromium-browser amd64 1:85.0.4183.83-0ubuntu2.22.04.1 [49.2 kB]\n",
      "Get:9 http://archive.ubuntu.com/ubuntu jammy-updates/universe amd64 chromium-chromedriver amd64 1:85.0.4183.83-0ubuntu2.22.04.1 [2,308 B]\n",
      "Get:10 http://archive.ubuntu.com/ubuntu jammy-updates/main amd64 systemd-hwe-hwdb all 249.11.5 [3,228 B]\n",
      "Fetched 28.5 MB in 1s (43.8 MB/s)\n",
      "Preconfiguring packages ...\n",
      "Selecting previously unselected package apparmor.\n",
      "(Reading database ... 123594 files and directories currently installed.)\n",
      "Preparing to unpack .../apparmor_3.0.4-2ubuntu2.3_amd64.deb ...\n",
      "Unpacking apparmor (3.0.4-2ubuntu2.3) ...\n",
      "Selecting previously unselected package liblzo2-2:amd64.\n",
      "Preparing to unpack .../liblzo2-2_2.10-2build3_amd64.deb ...\n",
      "Unpacking liblzo2-2:amd64 (2.10-2build3) ...\n",
      "Selecting previously unselected package squashfs-tools.\n",
      "Preparing to unpack .../squashfs-tools_1%3a4.5-3build1_amd64.deb ...\n",
      "Unpacking squashfs-tools (1:4.5-3build1) ...\n",
      "Preparing to unpack .../libudev1_249.11-0ubuntu3.12_amd64.deb ...\n",
      "Unpacking libudev1:amd64 (249.11-0ubuntu3.12) over (249.11-0ubuntu3.10) ...\n",
      "Setting up libudev1:amd64 (249.11-0ubuntu3.12) ...\n",
      "Selecting previously unselected package udev.\n",
      "(Reading database ... 123802 files and directories currently installed.)\n",
      "Preparing to unpack .../udev_249.11-0ubuntu3.12_amd64.deb ...\n",
      "Unpacking udev (249.11-0ubuntu3.12) ...\n",
      "Selecting previously unselected package libfuse3-3:amd64.\n",
      "Preparing to unpack .../libfuse3-3_3.10.5-1build1_amd64.deb ...\n",
      "Unpacking libfuse3-3:amd64 (3.10.5-1build1) ...\n",
      "Selecting previously unselected package snapd.\n",
      "Preparing to unpack .../snapd_2.63+22.04ubuntu0.1_amd64.deb ...\n",
      "Unpacking snapd (2.63+22.04ubuntu0.1) ...\n",
      "Setting up apparmor (3.0.4-2ubuntu2.3) ...\n",
      "Created symlink /etc/systemd/system/sysinit.target.wants/apparmor.service → /lib/systemd/system/apparmor.service.\n",
      "Setting up liblzo2-2:amd64 (2.10-2build3) ...\n",
      "Setting up squashfs-tools (1:4.5-3build1) ...\n",
      "Setting up udev (249.11-0ubuntu3.12) ...\n",
      "invoke-rc.d: could not determine current runlevel\n",
      "invoke-rc.d: policy-rc.d denied execution of start.\n",
      "Setting up libfuse3-3:amd64 (3.10.5-1build1) ...\n",
      "Setting up snapd (2.63+22.04ubuntu0.1) ...\n",
      "Created symlink /etc/systemd/system/multi-user.target.wants/snapd.apparmor.service → /lib/systemd/system/snapd.apparmor.service.\n",
      "Created symlink /etc/systemd/system/multi-user.target.wants/snapd.autoimport.service → /lib/systemd/system/snapd.autoimport.service.\n",
      "Created symlink /etc/systemd/system/multi-user.target.wants/snapd.core-fixup.service → /lib/systemd/system/snapd.core-fixup.service.\n",
      "Created symlink /etc/systemd/system/multi-user.target.wants/snapd.recovery-chooser-trigger.service → /lib/systemd/system/snapd.recovery-chooser-trigger.service.\n",
      "Created symlink /etc/systemd/system/multi-user.target.wants/snapd.seeded.service → /lib/systemd/system/snapd.seeded.service.\n",
      "Created symlink /etc/systemd/system/cloud-final.service.wants/snapd.seeded.service → /lib/systemd/system/snapd.seeded.service.\n",
      "Unit /lib/systemd/system/snapd.seeded.service is added as a dependency to a non-existent unit cloud-final.service.\n",
      "Created symlink /etc/systemd/system/multi-user.target.wants/snapd.service → /lib/systemd/system/snapd.service.\n",
      "Created symlink /etc/systemd/system/timers.target.wants/snapd.snap-repair.timer → /lib/systemd/system/snapd.snap-repair.timer.\n",
      "Created symlink /etc/systemd/system/sockets.target.wants/snapd.socket → /lib/systemd/system/snapd.socket.\n",
      "Created symlink /etc/systemd/system/final.target.wants/snapd.system-shutdown.service → /lib/systemd/system/snapd.system-shutdown.service.\n",
      "Selecting previously unselected package chromium-browser.\n",
      "(Reading database ... 124032 files and directories currently installed.)\n",
      "Preparing to unpack .../chromium-browser_1%3a85.0.4183.83-0ubuntu2.22.04.1_amd64.deb ...\n",
      "=> Installing the chromium snap\n",
      "==> Checking connectivity with the snap store\n",
      "===> System doesn't have a working snapd, skipping\n",
      "Unpacking chromium-browser (1:85.0.4183.83-0ubuntu2.22.04.1) ...\n",
      "Selecting previously unselected package chromium-chromedriver.\n",
      "Preparing to unpack .../chromium-chromedriver_1%3a85.0.4183.83-0ubuntu2.22.04.1_amd64.deb ...\n",
      "Unpacking chromium-chromedriver (1:85.0.4183.83-0ubuntu2.22.04.1) ...\n",
      "Selecting previously unselected package systemd-hwe-hwdb.\n",
      "Preparing to unpack .../systemd-hwe-hwdb_249.11.5_all.deb ...\n",
      "Unpacking systemd-hwe-hwdb (249.11.5) ...\n",
      "Setting up systemd-hwe-hwdb (249.11.5) ...\n",
      "Setting up chromium-browser (1:85.0.4183.83-0ubuntu2.22.04.1) ...\n",
      "update-alternatives: using /usr/bin/chromium-browser to provide /usr/bin/x-www-browser (x-www-browser) in auto mode\n",
      "update-alternatives: using /usr/bin/chromium-browser to provide /usr/bin/gnome-www-browser (gnome-www-browser) in auto mode\n",
      "Setting up chromium-chromedriver (1:85.0.4183.83-0ubuntu2.22.04.1) ...\n",
      "Processing triggers for udev (249.11-0ubuntu3.12) ...\n",
      "Processing triggers for hicolor-icon-theme (0.17-2) ...\n",
      "Processing triggers for libc-bin (2.35-0ubuntu3.4) ...\n",
      "/sbin/ldconfig.real: /usr/local/lib/libtbbbind_2_0.so.3 is not a symbolic link\n",
      "\n",
      "/sbin/ldconfig.real: /usr/local/lib/libtbbbind.so.3 is not a symbolic link\n",
      "\n",
      "/sbin/ldconfig.real: /usr/local/lib/libur_loader.so.0 is not a symbolic link\n",
      "\n",
      "/sbin/ldconfig.real: /usr/local/lib/libtbbmalloc.so.2 is not a symbolic link\n",
      "\n",
      "/sbin/ldconfig.real: /usr/local/lib/libur_adapter_opencl.so.0 is not a symbolic link\n",
      "\n",
      "/sbin/ldconfig.real: /usr/local/lib/libtbbmalloc_proxy.so.2 is not a symbolic link\n",
      "\n",
      "/sbin/ldconfig.real: /usr/local/lib/libtbb.so.12 is not a symbolic link\n",
      "\n",
      "/sbin/ldconfig.real: /usr/local/lib/libur_adapter_level_zero.so.0 is not a symbolic link\n",
      "\n",
      "/sbin/ldconfig.real: /usr/local/lib/libtbbbind_2_5.so.3 is not a symbolic link\n",
      "\n",
      "Processing triggers for man-db (2.10.2-1) ...\n",
      "Processing triggers for dbus (1.12.20-2ubuntu4.1) ...\n",
      "cp: '/usr/lib/chromium-browser/chromedriver' and '/usr/bin/chromedriver' are the same file\n"
     ]
    }
   ],
   "source": [
    "#Importing packages\n",
    "!pip install selenium\n",
    "!apt-get update # to update ubuntu to correctly run apt install\n",
    "!apt install chromium-chromedriver\n",
    "!cp /usr/lib/chromium-browser/chromedriver /usr/bin\n",
    "import sys\n",
    "sys.path.insert(0,'/usr/lib/chromium-browser/chromedriver')"
   ]
  },
  {
   "cell_type": "markdown",
   "metadata": {
    "id": "Go4W8qqLxNkI"
   },
   "source": [
    "Import Packages - if running locally, code would start here after initial install"
   ]
  },
  {
   "cell_type": "code",
   "execution_count": 2,
   "metadata": {
    "id": "TjqHU0FPxTwP"
   },
   "outputs": [],
   "source": [
    "#Import Libraries\n",
    "import requests\n",
    "from bs4 import BeautifulSoup\n",
    "from selenium import webdriver\n",
    "from selenium.webdriver.common.by import By\n",
    "from selenium.webdriver.common.action_chains import ActionChains\n",
    "from selenium.webdriver.support.wait import WebDriverWait\n",
    "from selenium.webdriver.support.expected_conditions import element_to_be_clickable\n",
    "from selenium.webdriver.common.keys import Keys\n",
    "import pandas as pd\n",
    "from time import sleep\n",
    "from random import randint"
   ]
  },
  {
   "cell_type": "markdown",
   "metadata": {
    "id": "Qcb63gvNxWur"
   },
   "source": [
    "set up chromedriver options"
   ]
  },
  {
   "cell_type": "code",
   "execution_count": 3,
   "metadata": {
    "id": "38claCWrxWR0"
   },
   "outputs": [],
   "source": [
    "#set up driver options\n",
    "chrome_options = webdriver.ChromeOptions()\n",
    "chrome_options.add_argument('--headless')\n",
    "chrome_options.add_argument('--no-sandbox')\n",
    "chrome_options.add_argument('--disable-dev-shm-usage')"
   ]
  },
  {
   "cell_type": "markdown",
   "metadata": {
    "id": "r5se7-saxd87"
   },
   "source": [
    "Webcrawling - collect individual book links"
   ]
  },
  {
   "cell_type": "code",
   "execution_count": 16,
   "metadata": {
    "collapsed": true,
    "id": "T9pDjtKgxuxp",
    "jupyter": {
     "outputs_hidden": true
    }
   },
   "outputs": [],
   "source": [
    "#Set up the driver and then run through each of the pages required to scrape the list of book links\n",
    "\n",
    "#list of URLs - the next button on qbd does not have a unique name so the page is requested as\n",
    "#a new URL instead of crawling through.\n",
    "#create function\n",
    "def get_linksqbd(urls):\n",
    "  #start driver\n",
    "  driver = webdriver.Chrome(options=chrome_options)\n",
    "  wait = WebDriverWait(driver, timeout=45)\n",
    "  #get the first url\n",
    "  driver.get(urls[0])\n",
    "  sleep(10)\n",
    "  #extract page source and pass into a soup using BeautifulSoup\n",
    "  sourceqbd = driver.page_source\n",
    "  soupqbd = BeautifulSoup(sourceqbd)\n",
    "  driver.quit()\n",
    "  #run through remaining urls appending the soup from that page to the main one\n",
    "  for url in urls[1:]:\n",
    "    driver = webdriver.Chrome(options=chrome_options)\n",
    "    wait = WebDriverWait(driver, timeout=45)\n",
    "    driver.get(url)\n",
    "    sleep(10)\n",
    "    sourceqbd2 = driver.page_source\n",
    "    soupqbd2 = BeautifulSoup(sourceqbd)\n",
    "    soupqbd.append(soupqbd2)\n",
    "    driver.quit()\n",
    "  #return one long soup with all pages\n",
    "  return soupqbd"
   ]
  },
  {
   "cell_type": "code",
   "execution_count": 8,
   "metadata": {
    "id": "aPsBStSQ5Ctx"
   },
   "outputs": [],
   "source": [
    "childbesturls = ['https://www.qbd.com.au/childrens/best-sellers',\n",
    "        'https://www.qbd.com.au/childrens/best-sellers/2/',\n",
    "        ]"
   ]
  },
  {
   "cell_type": "code",
   "execution_count": null,
   "metadata": {
    "id": "NVMjozXF5EsV"
   },
   "outputs": [],
   "source": [
    "nfbesturls = ['https://www.qbd.com.au/childrens/best-sellers',\n",
    "        'https://www.qbd.com.au/childrens/best-sellers/2/',\n",
    "        ]"
   ]
  },
  {
   "cell_type": "code",
   "execution_count": null,
   "metadata": {
    "id": "gRyJnUrI5IDe"
   },
   "outputs": [],
   "source": [
    "ficbesturls = ['https://www.qbd.com.au/fiction/best-sellers/',\n",
    "               'https://www.qbd.com.au/fiction/best-sellers/2/',\n",
    "               'https://www.qbd.com.au/fiction/best-sellers/3/']"
   ]
  },
  {
   "cell_type": "code",
   "execution_count": null,
   "metadata": {
    "id": "2beI6cHv60SD"
   },
   "outputs": [],
   "source": [
    "childgenurls = ['https://www.qbd.com.au/childrens/best-sellers/1500',\n",
    "        'https://www.qbd.com.au/childrens/best-sellers/1501/',\n",
    "        ]"
   ]
  },
  {
   "cell_type": "code",
   "execution_count": 17,
   "metadata": {
    "id": "rYSt5w4T6Dn5"
   },
   "outputs": [],
   "source": [
    "childbestsoup = get_linksqbd(childbesturls)"
   ]
  },
  {
   "cell_type": "code",
   "execution_count": 18,
   "metadata": {
    "id": "7l0QpqSd66Td"
   },
   "outputs": [],
   "source": [
    "qbdlinks = childbestsoup.find_all('div', class_=\"q2k21ptc\")"
   ]
  },
  {
   "cell_type": "code",
   "execution_count": 23,
   "metadata": {
    "id": "CXKwpPEy69Ew"
   },
   "outputs": [],
   "source": [
    "#creat function to get the list of individual book links from a navigation page soup\n",
    "\n",
    "def get_links(soup):\n",
    "  #extract relevant divs\n",
    "  Links = soup.find_all('div', class_=\"q2k21ptc\")\n",
    "  #empty list to append to\n",
    "  links = []\n",
    "  #pass through each row in the divs\n",
    "  for row in Links:\n",
    "    booklink = ''\n",
    "    #find section of 'a'\n",
    "    this = row.find('a')\n",
    "    #try get the href (actual link) otherwise skip\n",
    "    try:\n",
    "      booklink = str(this.get('href')).strip()\n",
    "      links.append(booklink)\n",
    "      #print(booklink)\n",
    "    except:\n",
    "      pass\n",
    "  #return list of links\n",
    "  return links"
   ]
  },
  {
   "cell_type": "code",
   "execution_count": 24,
   "metadata": {
    "id": "p1G0ERqq7Clw"
   },
   "outputs": [],
   "source": [
    "qbd = get_links(childbestsoup)"
   ]
  },
  {
   "cell_type": "code",
   "execution_count": 25,
   "metadata": {
    "colab": {
     "base_uri": "https://localhost:8080/"
    },
    "id": "G3Ut0rdQ7v9p",
    "outputId": "b9f0eb94-d38a-423a-fe20-ca9085bdbd4e"
   },
   "outputs": [
    {
     "data": {
      "text/plain": [
       "['/dog-man-12-the-scarlet-shedder/dav-pilkey/9781338896435/',\n",
       " '/powerful-exclusive-cover/lauren-roberts/9781398536746/',\n",
       " '/powerless/lauren-roberts/9781398529489/',\n",
       " '/lgb-taylor-swift/wendy-loggia/9780593566718/',\n",
       " '/powerless-02-reckless/lauren-roberts/9781398530126/',\n",
       " '/detective-beans-and-the-case-of-the-missing-hat/li-chen/9781761049477/',\n",
       " '/diary-of-a-big-bad-wolf/ben-miller-elisa-paganelli/9781398533813/',\n",
       " '/if-only-i-had-told-her/laura-nowlin/9781728276229/',\n",
       " '/were-going-on-a-bear-hunt/michael-rosen-helen-oxenbury/9780744511352/',\n",
       " '/if-he-had-been-with-me/laura-nowlin/9781728205489/',\n",
       " '/the-day-i-fell-into-a-fairytale/ben-miller-daniela-jaglenka-terrazzini/9781471192449/',\n",
       " '/lightlark-01-lightlark/alex-aster/9781419760877/',\n",
       " '/artezans-01-the-forgotten-magic/ld-lapinski/9781510110090/',\n",
       " '/the-reappearance-of-rachel-price/holly-jackson/9780008507268/',\n",
       " '/a-good-girls-guide-to-murder/holly-jackson/9781405293181/',\n",
       " '/magicalia-01-race-of-wonders/jennifer-bell/9781529506143/',\n",
       " '/the-crimson-moth/kristen-ciccarelli/9780008650575/',\n",
       " '/guess-how-much-i-love-you/sam-mcbratney/9780744532241/',\n",
       " '/the-bad-guys-episode-19-the-serpent-and-the-beast/aaron-blabey/9781760266097/',\n",
       " '/the-naturals/jennifer-lynn-barnes/9781786542212/',\n",
       " '/percy-jackson-01-percy-jackson-and-the-lightning-thief/rick-riordan/9780141346809/',\n",
       " '/the-essential-taylor-swift-fanbook/various/9781839352867/',\n",
       " '/frog-squad-01-dessert-disaster/kate-and-jol-temple-shiloh-gordon/9781460764428/',\n",
       " '/wings-of-fire-graphic-novel-07-winter-turning/tui-t-sutherland-mike-holmes/9781760269821/',\n",
       " '/dog-man-12-the-scarlet-shedder/dav-pilkey/9781338896435/',\n",
       " '/powerful-exclusive-cover/lauren-roberts/9781398536746/',\n",
       " '/powerless/lauren-roberts/9781398529489/',\n",
       " '/lgb-taylor-swift/wendy-loggia/9780593566718/',\n",
       " '/powerless-02-reckless/lauren-roberts/9781398530126/',\n",
       " '/detective-beans-and-the-case-of-the-missing-hat/li-chen/9781761049477/',\n",
       " '/diary-of-a-big-bad-wolf/ben-miller-elisa-paganelli/9781398533813/',\n",
       " '/if-only-i-had-told-her/laura-nowlin/9781728276229/',\n",
       " '/were-going-on-a-bear-hunt/michael-rosen-helen-oxenbury/9780744511352/',\n",
       " '/if-he-had-been-with-me/laura-nowlin/9781728205489/',\n",
       " '/the-day-i-fell-into-a-fairytale/ben-miller-daniela-jaglenka-terrazzini/9781471192449/',\n",
       " '/lightlark-01-lightlark/alex-aster/9781419760877/',\n",
       " '/artezans-01-the-forgotten-magic/ld-lapinski/9781510110090/',\n",
       " '/the-reappearance-of-rachel-price/holly-jackson/9780008507268/',\n",
       " '/a-good-girls-guide-to-murder/holly-jackson/9781405293181/',\n",
       " '/magicalia-01-race-of-wonders/jennifer-bell/9781529506143/',\n",
       " '/the-crimson-moth/kristen-ciccarelli/9780008650575/',\n",
       " '/guess-how-much-i-love-you/sam-mcbratney/9780744532241/',\n",
       " '/the-bad-guys-episode-19-the-serpent-and-the-beast/aaron-blabey/9781760266097/',\n",
       " '/the-naturals/jennifer-lynn-barnes/9781786542212/',\n",
       " '/percy-jackson-01-percy-jackson-and-the-lightning-thief/rick-riordan/9780141346809/',\n",
       " '/the-essential-taylor-swift-fanbook/various/9781839352867/',\n",
       " '/frog-squad-01-dessert-disaster/kate-and-jol-temple-shiloh-gordon/9781460764428/',\n",
       " '/wings-of-fire-graphic-novel-07-winter-turning/tui-t-sutherland-mike-holmes/9781760269821/']"
      ]
     },
     "execution_count": 25,
     "metadata": {},
     "output_type": "execute_result"
    }
   ],
   "source": [
    "qbd"
   ]
  },
  {
   "cell_type": "code",
   "execution_count": 22,
   "metadata": {
    "colab": {
     "base_uri": "https://localhost:8080/"
    },
    "id": "yv6IIOFR7zJv",
    "outputId": "e48abb66-76b5-4de1-ede5-0c7346d6b513"
   },
   "outputs": [
    {
     "data": {
      "text/plain": [
       "48"
      ]
     },
     "execution_count": 22,
     "metadata": {},
     "output_type": "execute_result"
    }
   ],
   "source": [
    "len(qbd)"
   ]
  }
 ],
 "metadata": {
  "colab": {
   "provenance": []
  },
  "kernelspec": {
   "display_name": "Python 3 (ipykernel)",
   "language": "python",
   "name": "python3"
  },
  "language_info": {
   "codemirror_mode": {
    "name": "ipython",
    "version": 3
   },
   "file_extension": ".py",
   "mimetype": "text/x-python",
   "name": "python",
   "nbconvert_exporter": "python",
   "pygments_lexer": "ipython3",
   "version": "3.9.19"
  }
 },
 "nbformat": 4,
 "nbformat_minor": 4
}
